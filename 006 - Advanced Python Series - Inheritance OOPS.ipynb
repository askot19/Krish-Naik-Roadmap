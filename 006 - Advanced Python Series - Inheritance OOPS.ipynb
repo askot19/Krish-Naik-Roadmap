{
 "cells": [
  {
   "cell_type": "markdown",
   "id": "b7d1a477-08d8-4207-b381-afef60bf286c",
   "metadata": {},
   "source": [
    "### Python OOPS - Inheritance"
   ]
  },
  {
   "cell_type": "code",
   "execution_count": 9,
   "id": "b01e0765-8962-4f15-a233-008ddecfd142",
   "metadata": {},
   "outputs": [],
   "source": [
    "### All the class variables are public (to change this we can use _ for protected and __ for private variables)\n",
    "### Car blueprint\n",
    "class Car():\n",
    "    def __init__(self, windows, doors, enginetype):\n",
    "        self.windows = windows\n",
    "        self.doors = doors\n",
    "        self.enginetype = enginetype\n",
    "    def drive(self):\n",
    "        print('The Person drives the car')"
   ]
  },
  {
   "cell_type": "code",
   "execution_count": 10,
   "id": "5b78dfd4-ea91-429c-9d20-d7d53b59fe43",
   "metadata": {},
   "outputs": [],
   "source": [
    "car = Car(4, 5, 'Diesel')"
   ]
  },
  {
   "cell_type": "code",
   "execution_count": 11,
   "id": "8394463a-48d4-46b6-a548-4caf3aa43a7a",
   "metadata": {},
   "outputs": [
    {
     "name": "stdout",
     "output_type": "stream",
     "text": [
      "The Person drives the car\n"
     ]
    }
   ],
   "source": [
    "car.drive()"
   ]
  },
  {
   "cell_type": "code",
   "execution_count": 12,
   "id": "8207299b-47e9-4fe8-b436-ace4f377d375",
   "metadata": {},
   "outputs": [],
   "source": [
    "### Here the audi car is inheriting Car's attributes\n",
    "class audi(Car):\n",
    "    def __init__(self, windows, doors, enginetype, enableai):\n",
    "        super().__init__(windows, doors, enginetype)\n",
    "        self.enableai=enableai\n",
    "    def selfdriving(self):\n",
    "        print('Audi supports self driving')"
   ]
  },
  {
   "cell_type": "code",
   "execution_count": 13,
   "id": "d30894a1-69a9-41f3-9f89-001bb75ef27d",
   "metadata": {},
   "outputs": [],
   "source": [
    "audiQ7=audi(5, 5, 'diesel', True)"
   ]
  },
  {
   "cell_type": "code",
   "execution_count": 19,
   "id": "ec672dea-a021-47c1-a6cf-3a5b7e2d9aef",
   "metadata": {},
   "outputs": [
    {
     "name": "stdout",
     "output_type": "stream",
     "text": [
      "Audi supports self driving\n"
     ]
    }
   ],
   "source": [
    "audiQ7.selfdriving()"
   ]
  }
 ],
 "metadata": {
  "kernelspec": {
   "display_name": "Python 3 (ipykernel)",
   "language": "python",
   "name": "python3"
  },
  "language_info": {
   "codemirror_mode": {
    "name": "ipython",
    "version": 3
   },
   "file_extension": ".py",
   "mimetype": "text/x-python",
   "name": "python",
   "nbconvert_exporter": "python",
   "pygments_lexer": "ipython3",
   "version": "3.11.5"
  }
 },
 "nbformat": 4,
 "nbformat_minor": 5
}
