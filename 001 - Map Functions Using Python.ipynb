{
 "cells": [
  {
   "cell_type": "code",
   "execution_count": 1,
   "id": "9648df19",
   "metadata": {},
   "outputs": [],
   "source": [
    "def even_or_odd(num):\n",
    "    if num % 2 == 0:\n",
    "        return f'The number {num} is Even'\n",
    "    else:\n",
    "        return f'The number {num} is Odd'"
   ]
  },
  {
   "cell_type": "code",
   "execution_count": 2,
   "id": "23eb85fe",
   "metadata": {},
   "outputs": [
    {
     "data": {
      "text/plain": [
       "'The number 24 is Even'"
      ]
     },
     "execution_count": 2,
     "metadata": {},
     "output_type": "execute_result"
    }
   ],
   "source": [
    "even_or_odd(24)"
   ]
  },
  {
   "cell_type": "code",
   "execution_count": 3,
   "id": "424c975e",
   "metadata": {},
   "outputs": [],
   "source": [
    "lst = [1, 2, 3, 4, 5, 6, 7, 8, 9, 24, 56, 78]"
   ]
  },
  {
   "cell_type": "code",
   "execution_count": 5,
   "id": "f9fcd700",
   "metadata": {},
   "outputs": [
    {
     "data": {
      "text/plain": [
       "['The number 1 is Odd',\n",
       " 'The number 2 is Even',\n",
       " 'The number 3 is Odd',\n",
       " 'The number 4 is Even',\n",
       " 'The number 5 is Odd',\n",
       " 'The number 6 is Even',\n",
       " 'The number 7 is Odd',\n",
       " 'The number 8 is Even',\n",
       " 'The number 9 is Odd',\n",
       " 'The number 24 is Even',\n",
       " 'The number 56 is Even',\n",
       " 'The number 78 is Even']"
      ]
     },
     "execution_count": 5,
     "metadata": {},
     "output_type": "execute_result"
    }
   ],
   "source": [
    "list(map(even_or_odd, lst))"
   ]
  }
 ],
 "metadata": {
  "kernelspec": {
   "display_name": "Python 3 (ipykernel)",
   "language": "python",
   "name": "python3"
  },
  "language_info": {
   "codemirror_mode": {
    "name": "ipython",
    "version": 3
   },
   "file_extension": ".py",
   "mimetype": "text/x-python",
   "name": "python",
   "nbconvert_exporter": "python",
   "pygments_lexer": "ipython3",
   "version": "3.11.5"
  }
 },
 "nbformat": 4,
 "nbformat_minor": 5
}
