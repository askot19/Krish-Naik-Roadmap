{
 "cells": [
  {
   "cell_type": "markdown",
   "id": "94c9dcd2-079d-4363-9d01-d34b2ace35c6",
   "metadata": {},
   "source": [
    "### OOPS Tutorial in Python"
   ]
  },
  {
   "cell_type": "code",
   "execution_count": 1,
   "id": "49012794-5ca0-4703-b25b-21289e0f54da",
   "metadata": {},
   "outputs": [],
   "source": [
    "class Car:\n",
    "    def __init__(self, window, door, enginetype):\n",
    "        self.windows=window\n",
    "        self.doors=door\n",
    "        self.enginetype=enginetype\n",
    "    def self_driving(self):\n",
    "        return f\"This is a {self.enginetype} car.\""
   ]
  },
  {
   "cell_type": "code",
   "execution_count": 2,
   "id": "08731afb-96dc-439d-a594-f13968bfd94a",
   "metadata": {},
   "outputs": [],
   "source": [
    "car1 = Car(6, 4, 'petrol')"
   ]
  },
  {
   "cell_type": "code",
   "execution_count": 3,
   "id": "60c6b4c4-8494-4ddf-9204-5f514f405a10",
   "metadata": {},
   "outputs": [
    {
     "data": {
      "text/plain": [
       "'This is a petrol car.'"
      ]
     },
     "execution_count": 3,
     "metadata": {},
     "output_type": "execute_result"
    }
   ],
   "source": [
    "car1.self_driving()"
   ]
  },
  {
   "cell_type": "code",
   "execution_count": 4,
   "id": "92d63db9-4487-4eb5-a095-a0746a746fa7",
   "metadata": {},
   "outputs": [],
   "source": [
    "car2 = Car(3, 4, 'diesel')"
   ]
  },
  {
   "cell_type": "code",
   "execution_count": 5,
   "id": "90156ccd-81a9-4d67-bef8-f3cabec6b271",
   "metadata": {},
   "outputs": [
    {
     "name": "stdout",
     "output_type": "stream",
     "text": [
      "6\n"
     ]
    }
   ],
   "source": [
    "print(car1.windows)"
   ]
  },
  {
   "cell_type": "code",
   "execution_count": 6,
   "id": "58ad7055-6e75-4fa9-98ff-ae5c344fa772",
   "metadata": {},
   "outputs": [
    {
     "name": "stdout",
     "output_type": "stream",
     "text": [
      "This is a diesel car.\n"
     ]
    }
   ],
   "source": [
    "print(car2.self_driving())"
   ]
  }
 ],
 "metadata": {
  "kernelspec": {
   "display_name": "Python 3 (ipykernel)",
   "language": "python",
   "name": "python3"
  },
  "language_info": {
   "codemirror_mode": {
    "name": "ipython",
    "version": 3
   },
   "file_extension": ".py",
   "mimetype": "text/x-python",
   "name": "python",
   "nbconvert_exporter": "python",
   "pygments_lexer": "ipython3",
   "version": "3.11.5"
  }
 },
 "nbformat": 4,
 "nbformat_minor": 5
}
